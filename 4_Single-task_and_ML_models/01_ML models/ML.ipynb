{
 "cells": [
  {
   "cell_type": "code",
   "execution_count": 1,
   "metadata": {},
   "outputs": [],
   "source": [
    "import pandas as pd\n",
    "import numpy as np\n",
    "from sklearn.model_selection import KFold, ShuffleSplit, GridSearchCV, cross_val_score, cross_validate\n",
    "import os\n",
    "import glob\n",
    "from scipy.stats import norm\n",
    "import math\n",
    "import random\n",
    "from rdkit import Chem\n",
    "from sklearn import preprocessing  \n",
    "\n",
    "T_0 = pd.read_csv('./Data/LGAC-label.csv')\n",
    "T=np.array(T_0)\n",
    "X=pd.read_csv('./Data/LGAC-morgan.csv')\n",
    "X=np.array(X)"
   ]
  },
  {
   "cell_type": "markdown",
   "metadata": {
    "tags": []
   },
   "source": [
    "# 1. LightGBM"
   ]
  },
  {
   "cell_type": "code",
   "execution_count": 2,
   "metadata": {},
   "outputs": [
    {
     "name": "stderr",
     "output_type": "stream",
     "text": [
      "E:\\Anaconda\\envs\\dye37\\lib\\site-packages\\sklearn\\utils\\validation.py:993: DataConversionWarning: A column-vector y was passed when a 1d array was expected. Please change the shape of y to (n_samples, ), for example using ravel().\n",
      "  y = column_or_1d(y, warn=True)\n"
     ]
    },
    {
     "name": "stdout",
     "output_type": "stream",
     "text": [
      "y_true_test shape: (1279, 1)\n",
      "y_pred_test shape: (1279,)\n",
      "test set r^2 score 0.8491837239385192\n",
      "test set MAE 0.09243093312792663\n",
      "test set RMSE 0.1447452749384954\n"
     ]
    }
   ],
   "source": [
    "from sklearn.model_selection import train_test_split\n",
    "from sklearn import metrics\n",
    "import matplotlib.pyplot as plt\n",
    "import seaborn as sns\n",
    "import lightgbm as lgb\n",
    "from sklearn.ensemble import RandomForestRegressor\n",
    "from sklearn.model_selection import cross_val_score\n",
    "from sklearn.model_selection import KFold\n",
    "from sklearn.metrics import r2_score\n",
    "from sklearn.metrics import mean_absolute_error\n",
    "import numpy as np\n",
    "from sklearn.metrics import mean_squared_error, mean_absolute_error\n",
    "\n",
    "X_train,  X_test,  T_train,  T_test  =  train_test_split(X,T,test_size=0.20,random_state=34)\n",
    "plt.style.use('ggplot')\n",
    "regressor = lgb.LGBMRegressor(n_estimators=2000)\n",
    "regressor.fit(X_train,T_train)\n",
    "lgb.LGBMRegressor(boosting_type='gbdt', class_weight=0.5, colsample_bytree=1.0,\n",
    "       importance_type='split', learning_rate=0.1, max_depth=-1,\n",
    "       min_child_samples=20, min_child_weight=0.001, min_split_gain=0.0,\n",
    "       n_estimators=100, n_jobs=-1, num_leaves=31,random_state=34, reg_alpha=0.0, reg_lambda=0.0, silent=True,\n",
    "       subsample=1.0, subsample_for_bin=200000, subsample_freq=0)\n",
    "\n",
    "y_true_test=T_test\n",
    "y_pred_test=regressor.predict(X_test)\n",
    "\n",
    "print(\"y_true_test shape:\", y_true_test.shape)\n",
    "print(\"y_pred_test shape:\", y_pred_test.shape)\n",
    "\n",
    "y_true_test = np.ravel(y_true_test)\n",
    "y_pred_test = np.ravel(y_pred_test)\n",
    "y_true=T_test\n",
    "print (\"test set r^2 score\",r2_score(T_test,y_pred_test))\n",
    "print(\"test set MAE\",mean_absolute_error(y_true, y_pred_test))\n",
    "print(\"test set RMSE\",np.sqrt(mean_squared_error(y_true,y_pred_test)))"
   ]
  },
  {
   "cell_type": "markdown",
   "metadata": {},
   "source": [
    "# 2. XGBoost"
   ]
  },
  {
   "cell_type": "code",
   "execution_count": 3,
   "metadata": {},
   "outputs": [
    {
     "name": "stdout",
     "output_type": "stream",
     "text": [
      "测试集 R² score: 0.8332\n",
      "test set MAE: 0.1092\n",
      "test set RMSE: 0.1578\n"
     ]
    }
   ],
   "source": [
    "import xgboost as xgb\n",
    "from sklearn.metrics import mean_absolute_error, mean_squared_error, r2_score\n",
    "from sklearn.model_selection import train_test_split\n",
    "import numpy as np\n",
    "import pandas as pd\n",
    "\n",
    "X_train, X_test, T_train, T_test = train_test_split(X, T, test_size=0.1, random_state=42)\n",
    "\n",
    "xg_reg = xgb.XGBRegressor(\n",
    "    objective='reg:squarederror',\n",
    "    base_score=0.5,\n",
    "    booster='gbtree',\n",
    "    colsample_bylevel=1,\n",
    "    colsample_bynode=1,\n",
    "    colsample_bytree=1,\n",
    "    enable_categorical=False,\n",
    "    gamma=0,\n",
    "    max_delta_step=0,\n",
    "    max_depth=6,\n",
    "    min_child_weight=1,\n",
    "    missing=np.nan,\n",
    "    n_estimators=100,\n",
    "    reg_alpha=0,\n",
    "    reg_lambda=1,\n",
    "    scale_pos_weight=1,\n",
    "    subsample=1,\n",
    "    random_state=42\n",
    ")\n",
    "\n",
    "xg_reg.fit(X_train, T_train)\n",
    "\n",
    "train_r2 = xg_reg.score(X_train, T_train)\n",
    "test_r2 = xg_reg.score(X_test, T_test)\n",
    "\n",
    "print(f\"测试集 R² score: {test_r2:.4f}\")\n",
    "\n",
    "y_pred_train = xg_reg.predict(X_train)\n",
    "y_pred_test = xg_reg.predict(X_test)\n",
    "\n",
    "train_mae = mean_absolute_error(T_train, y_pred_train)\n",
    "test_mae = mean_absolute_error(T_test, y_pred_test)\n",
    "\n",
    "train_rmse = np.sqrt(mean_squared_error(T_train, y_pred_train))\n",
    "test_rmse = np.sqrt(mean_squared_error(T_test, y_pred_test))\n",
    "\n",
    "print(f\"test set MAE: {test_mae:.4f}\")\n",
    "print(f\"test set RMSE: {test_rmse:.4f}\")\n"
   ]
  },
  {
   "cell_type": "markdown",
   "metadata": {},
   "source": [
    "# GBRT"
   ]
  },
  {
   "cell_type": "code",
   "execution_count": 4,
   "metadata": {},
   "outputs": [
    {
     "name": "stderr",
     "output_type": "stream",
     "text": [
      "E:\\Anaconda\\envs\\dye37\\lib\\site-packages\\sklearn\\ensemble\\_gb.py:494: DataConversionWarning: A column-vector y was passed when a 1d array was expected. Please change the shape of y to (n_samples, ), for example using ravel().\n",
      "  y = column_or_1d(y, warn=True)\n"
     ]
    },
    {
     "name": "stdout",
     "output_type": "stream",
     "text": [
      "test set R² score: 0.868\n",
      "test set MAE: 0.095\n",
      "test set RMSE: 0.141\n"
     ]
    }
   ],
   "source": [
    "import numpy as np\n",
    "import pandas as pd\n",
    "from sklearn.ensemble import GradientBoostingRegressor\n",
    "from sklearn.metrics import mean_absolute_error, mean_squared_error, r2_score\n",
    "from sklearn.model_selection import train_test_split\n",
    "\n",
    "X_train, X_test, T_train, T_test = train_test_split(X, T, test_size=0.1, random_state=42)\n",
    "\n",
    "gbr_reg = GradientBoostingRegressor(\n",
    "    learning_rate=0.05,\n",
    "    max_depth=31,\n",
    "    max_features=300,\n",
    "    min_samples_leaf=20,\n",
    "    n_estimators=200,\n",
    "    random_state=42\n",
    ")\n",
    "\n",
    "gbr_reg.fit(X_train, T_train)\n",
    "\n",
    "train_r2 = gbr_reg.score(X_train, T_train)\n",
    "test_r2 = gbr_reg.score(X_test, T_test)\n",
    "print(f\"test set R² score: {test_r2:.3f}\")\n",
    "\n",
    "y_pred_train = gbr_reg.predict(X_train)\n",
    "y_pred_test = gbr_reg.predict(X_test)\n",
    "\n",
    "train_mae = mean_absolute_error(T_train, y_pred_train)\n",
    "test_mae = mean_absolute_error(T_test, y_pred_test)\n",
    "\n",
    "train_rmse = np.sqrt(mean_squared_error(T_train, y_pred_train))\n",
    "test_rmse = np.sqrt(mean_squared_error(T_test, y_pred_test))\n",
    "\n",
    "print(f\"test set MAE: {test_mae:.3f}\")\n",
    "print(f\"test set RMSE: {test_rmse:.3f}\")"
   ]
  },
  {
   "cell_type": "code",
   "execution_count": null,
   "metadata": {},
   "outputs": [],
   "source": []
  }
 ],
 "metadata": {
  "kernelspec": {
   "display_name": "dye37",
   "language": "python",
   "name": "dye37"
  },
  "language_info": {
   "codemirror_mode": {
    "name": "ipython",
    "version": 3
   },
   "file_extension": ".py",
   "mimetype": "text/x-python",
   "name": "python",
   "nbconvert_exporter": "python",
   "pygments_lexer": "ipython3",
   "version": "3.7.12"
  }
 },
 "nbformat": 4,
 "nbformat_minor": 4
}
